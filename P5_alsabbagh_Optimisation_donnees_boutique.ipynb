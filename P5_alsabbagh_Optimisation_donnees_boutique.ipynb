{
  "metadata": {
    "kernelspec": {
      "language": "python",
      "display_name": "Python 3",
      "name": "python3"
    },
    "language_info": {
      "name": "python",
      "version": "3.7.12",
      "mimetype": "text/x-python",
      "codemirror_mode": {
        "name": "ipython",
        "version": 3
      },
      "pygments_lexer": "ipython3",
      "nbconvert_exporter": "python",
      "file_extension": ".py"
    },
    "colab": {
      "provenance": [],
      "collapsed_sections": [
        "pl3QP2N8FZC6",
        "8DKt1yKtFZC6",
        "HRP9rZKJFZC7",
        "laCthzh2FZC7",
        "AxT5znWNFZC8",
        "9Akc_TntFZC8",
        "h3gQLtUHFZC9"
      ],
      "include_colab_link": true
    }
  },
  "nbformat_minor": 0,
  "nbformat": 4,
  "cells": [
    {
      "cell_type": "markdown",
      "metadata": {
        "id": "view-in-github",
        "colab_type": "text"
      },
      "source": [
        "<a href=\"https://colab.research.google.com/github/Randasabag/Optimisez-la-gestion-des-donn-es-d-une-boutique-avec-R-ou-Python/blob/main/P5_alsabbagh_Optimisation_donnees_boutique.ipynb\" target=\"_parent\"><img src=\"https://colab.research.google.com/assets/colab-badge.svg\" alt=\"Open In Colab\"/></a>"
      ]
    },
    {
      "cell_type": "code",
      "source": [
        "# This Python 3 environment comes with many helpful analytics libraries installed\n",
        "# It is defined by the kaggle/python Docker image: https://github.com/kaggle/docker-python\n",
        "# For example, here's several helpful packages to load\n",
        "\n",
        "import numpy as np # linear algebra\n",
        "import pandas as pd # data processing, CSV file I/O (e.g. pd.read_csv)\n",
        "\n",
        "# Input data files are available in the read-only \"../input/\" directory\n",
        "# For example, running this (by clicking run or pressing Shift+Enter) will list all files under the input directory\n",
        "\n",
        "import os\n",
        "for dirname, _, filenames in os.walk('/kaggle/input'):\n",
        "    for filename in filenames:\n",
        "        print(os.path.join(dirname, filename))\n",
        "\n",
        "# You can write up to 20GB to the current directory (/kaggle/working/) that gets preserved as output when you create a version using \"Save & Run All\" \n",
        "# You can also write temporary files to /kaggle/temp/, but they won't be saved outside of the current session"
      ],
      "metadata": {
        "_uuid": "8f2839f25d086af736a60e9eeb907d3b93b6e0e5",
        "_cell_guid": "b1076dfc-b9ad-4769-8c92-a6c4dae69d19",
        "execution": {
          "iopub.status.busy": "2022-02-22T23:22:04.783527Z",
          "iopub.execute_input": "2022-02-22T23:22:04.783793Z",
          "iopub.status.idle": "2022-02-22T23:22:04.798299Z",
          "shell.execute_reply.started": "2022-02-22T23:22:04.783763Z",
          "shell.execute_reply": "2022-02-22T23:22:04.797554Z"
        },
        "trusted": true,
        "id": "YsgwiyaFFZCy"
      },
      "execution_count": null,
      "outputs": []
    },
    {
      "cell_type": "markdown",
      "source": [
        "# OPTIMISATION DE LA GESTION DES DONNEES D'UNE BOUTIQUE AVEC PYTHON "
      ],
      "metadata": {
        "id": "lNyWIFLtFZC0"
      }
    },
    {
      "cell_type": "markdown",
      "source": [
        "## <font color='indianred'> BOTTLENECK, MARCHAND DE VIN TRÈS PRESTIGIEUX</font>"
      ],
      "metadata": {
        "id": "RQoraEzqFZC1"
      }
    },
    {
      "cell_type": "markdown",
      "source": [
        "# Mission :\n",
        "<ol>\n",
        "    <li>Rapprochement de deux exports : </li>\n",
        "   <ul>\n",
        "        <li> un <b>export de l’ERP</b> contenant les références produit, leur prix de vente et leur état de stock</li>\n",
        "    <li> un <b>export d’une table de l’outil de CMS</b> contenant les informations des produits commercialisés en ligne (nom, description, nombre de ventes...)</li>\n",
        "    </ul>\n",
        "  \n",
        "  L’export issu de la boutique en ligne contient le nombre de ventes pour chaque produit depuis sa mise en ligne, il ne permet pas d’analyser l'évolution des ventes dans le temps.\n",
        "    \n",
        "Un tableau Excel a été créé  afin d’établir le lien entre la référence du produit dans l’ERP (product_id) et la référence du même produit dans la base de la boutique en ligne (SKU). \n",
        "\n",
        "  <li> Après le rapprochement effectué, il faut obtenir : \n",
        "       <ul><li> le chiffre d’affaires par produit</li>\n",
        "           <li> le total du chiffre d’affaires réalisé en ligne.</li>\n",
        "      </ul>    \n",
        "  </li> <br>\n",
        "\n",
        "       \n",
        "   <li> Il y a des erreurs de saisie dans certains prix des produits. Il faudrait effectuer une analyse sur cette variable afin de détecter d’éventuelles valeurs aberrantes, de les lister et d’en faire une représentation graphique pour plus de lisibilité.</li><br>\n",
        "\n",
        "   <li> Une colonne a été mal nommée dans le fichier Excel. En fait, la colonne id_web dans le fichier correspond au SKU des produits dans la boutique en ligne.</li>   \n",
        " </ol>\n",
        "\n",
        "\n",
        "# Sommaire :\n",
        "**Partie 1 : Importation des données**\n",
        " - <a href=\"#C1\">Importation des librairies</a>\n",
        " - <a href=\"#C2\">Importation des jeux de données</a>\n",
        " \n",
        "**Partie 2 : Analyse des jeux de données**\n",
        " - <a href=\"#C3\">Affichage du nombre de lignes et colonnes des jeux de données </a>\n",
        " - <a href=\"#C4\">Analyse des valeurs manquantes</a>\n",
        " - <a href=\"#C5\">Analyse des types de données</a>\n",
        " \n",
        "**Partie 3 : Nettoyage du jeu de données**\n",
        " - <a href=\"#C6\">Unicité de la clé primaire</a>\n",
        " - <a href=\"#C7\">Suppression des doublons</a>\n",
        " - <a href=\"#C8\">Suppression des colonnes vides</a> \n",
        "  \n",
        "**Partie 4 : Rapprochement des exports**\n",
        " - <a href=\"#C9\">Renommage de la colonne id_web</a>\n",
        " - <a href=\"#C10\">Jointure entre les 3 tables</a>\n",
        " \n",
        "**Partie 5 : Chiffre d'affaires**\n",
        " - <a href=\"#C11\">Calcul du CA par produit et le CA total en ligne</a>\n",
        " \n",
        "**Partie 6 : Outliers**\n",
        " - <a href=\"#C12\">Detection des outliers par la méthode du Z-score</a>\n",
        " - <a href=\"#C13\">Detection des outliers par la méthode du IQR</a>\n",
        " - <a href=\"#C14\">Visualisation graphique des outliers</a>"
      ],
      "metadata": {
        "execution": {
          "iopub.status.busy": "2022-02-02T10:05:04.230857Z",
          "iopub.execute_input": "2022-02-02T10:05:04.231108Z",
          "iopub.status.idle": "2022-02-02T10:05:04.235621Z",
          "shell.execute_reply.started": "2022-02-02T10:05:04.231082Z",
          "shell.execute_reply": "2022-02-02T10:05:04.234733Z"
        },
        "id": "7mdeNjMoFZC1"
      }
    },
    {
      "cell_type": "markdown",
      "source": [
        "#<font color='indianred'>**Partie 1 : Importation des données**</font></a>"
      ],
      "metadata": {
        "execution": {
          "iopub.status.busy": "2022-02-02T10:19:18.65127Z",
          "iopub.execute_input": "2022-02-02T10:19:18.652099Z",
          "iopub.status.idle": "2022-02-02T10:19:18.658254Z",
          "shell.execute_reply.started": "2022-02-02T10:19:18.652056Z",
          "shell.execute_reply": "2022-02-02T10:19:18.657089Z"
        },
        "id": "bdcQO7n0FZC2"
      }
    },
    {
      "cell_type": "markdown",
      "source": [
        "# <a name=\"C1\"><font color='LightSeaGreen'>Importation des librairies</font></a>"
      ],
      "metadata": {
        "execution": {
          "iopub.status.busy": "2022-02-02T11:00:26.654591Z",
          "iopub.execute_input": "2022-02-02T11:00:26.655469Z",
          "iopub.status.idle": "2022-02-02T11:00:26.660539Z",
          "shell.execute_reply.started": "2022-02-02T11:00:26.655413Z",
          "shell.execute_reply": "2022-02-02T11:00:26.659772Z"
        },
        "id": "TFITcN9lFZC2"
      }
    },
    {
      "cell_type": "code",
      "source": [
        "import pandas as pd\n",
        "import numpy as np\n",
        "import matplotlib.pyplot as plt\n",
        "import seaborn as sns\n",
        "import datetime as dt\n",
        "import scipy.stats as st"
      ],
      "metadata": {
        "execution": {
          "iopub.status.busy": "2022-02-22T23:22:04.799860Z",
          "iopub.execute_input": "2022-02-22T23:22:04.800609Z",
          "iopub.status.idle": "2022-02-22T23:22:04.805020Z",
          "shell.execute_reply.started": "2022-02-22T23:22:04.800573Z",
          "shell.execute_reply": "2022-02-22T23:22:04.804364Z"
        },
        "trusted": true,
        "id": "ZusrPT0OFZC2"
      },
      "execution_count": null,
      "outputs": []
    },
    {
      "cell_type": "markdown",
      "source": [
        "# <a name=\"C2\"><font color='LightSeaGreen'>Importation des jeux de données : erp, liaison et web</font></a>"
      ],
      "metadata": {
        "id": "h4IPZUeYFZC3"
      }
    },
    {
      "cell_type": "code",
      "source": [
        "#Ouvre les fichiers excel\n",
        "!pip install openpyxl"
      ],
      "metadata": {
        "execution": {
          "iopub.status.busy": "2022-02-22T23:22:04.806622Z",
          "iopub.execute_input": "2022-02-22T23:22:04.807210Z",
          "iopub.status.idle": "2022-02-22T23:22:12.424995Z",
          "shell.execute_reply.started": "2022-02-22T23:22:04.807171Z",
          "shell.execute_reply": "2022-02-22T23:22:12.424148Z"
        },
        "trusted": true,
        "id": "H-gIW5WmFZC3"
      },
      "execution_count": null,
      "outputs": []
    },
    {
      "cell_type": "code",
      "source": [
        "#importe les fichiers excel des données \n",
        "df_erp=pd.read_excel('../input/erp-datas/erp.xlsx')\n",
        "pd.set_option('display.max_columns',None)\n",
        "df_erp.head()"
      ],
      "metadata": {
        "execution": {
          "iopub.status.busy": "2022-02-22T23:22:12.426638Z",
          "iopub.execute_input": "2022-02-22T23:22:12.426923Z",
          "iopub.status.idle": "2022-02-22T23:22:12.532920Z",
          "shell.execute_reply.started": "2022-02-22T23:22:12.426883Z",
          "shell.execute_reply": "2022-02-22T23:22:12.532129Z"
        },
        "trusted": true,
        "id": "6zpiAbtiFZC3"
      },
      "execution_count": null,
      "outputs": []
    },
    {
      "cell_type": "code",
      "source": [
        "df_liaison=pd.read_excel('../input/liaison-datas/liaison.xlsx')\n",
        "df_liaison.head()"
      ],
      "metadata": {
        "execution": {
          "iopub.status.busy": "2022-02-22T23:22:12.535239Z",
          "iopub.execute_input": "2022-02-22T23:22:12.535513Z",
          "iopub.status.idle": "2022-02-22T23:22:12.592899Z",
          "shell.execute_reply.started": "2022-02-22T23:22:12.535470Z",
          "shell.execute_reply": "2022-02-22T23:22:12.592234Z"
        },
        "trusted": true,
        "id": "d5eu__aSFZC3"
      },
      "execution_count": null,
      "outputs": []
    },
    {
      "cell_type": "code",
      "source": [
        "df_web=pd.read_excel('../input/web-datas/web.xlsx')\n",
        "pd.set_option('display.max_columns', 28)\n",
        "df_web.head()"
      ],
      "metadata": {
        "execution": {
          "iopub.status.busy": "2022-02-22T23:22:12.594229Z",
          "iopub.execute_input": "2022-02-22T23:22:12.594723Z",
          "iopub.status.idle": "2022-02-22T23:22:13.249228Z",
          "shell.execute_reply.started": "2022-02-22T23:22:12.594688Z",
          "shell.execute_reply": "2022-02-22T23:22:13.248520Z"
        },
        "trusted": true,
        "id": "lQPwgolBFZC3"
      },
      "execution_count": null,
      "outputs": []
    },
    {
      "cell_type": "markdown",
      "source": [
        "# <a name=\"C3\"><font color='indianred'>Partie 2 : Analyse des jeux de données</font></a>"
      ],
      "metadata": {
        "id": "MH2qdEPpFZC3"
      }
    },
    {
      "cell_type": "markdown",
      "source": [
        "# <a name=\"C3\"><font color='LightSeaGreen'>Affichage du nombre de lignes et colonnes des jeux de données</font></a>"
      ],
      "metadata": {
        "id": "Q1rKlIvRFZC4"
      }
    },
    {
      "cell_type": "markdown",
      "source": [],
      "metadata": {
        "id": "2rFhzx3oFZC4"
      }
    },
    {
      "cell_type": "code",
      "source": [
        "#nombre de lignes et colonnes\n",
        "print('erp',df_erp.shape)\n",
        "print('liaison',df_liaison.shape)\n",
        "print('web',df_web.shape)"
      ],
      "metadata": {
        "execution": {
          "iopub.status.busy": "2022-02-22T23:22:13.250816Z",
          "iopub.execute_input": "2022-02-22T23:22:13.251242Z",
          "iopub.status.idle": "2022-02-22T23:22:13.259039Z",
          "shell.execute_reply.started": "2022-02-22T23:22:13.251194Z",
          "shell.execute_reply": "2022-02-22T23:22:13.258028Z"
        },
        "trusted": true,
        "id": "f_x_mCnzFZC4"
      },
      "execution_count": null,
      "outputs": []
    },
    {
      "cell_type": "markdown",
      "source": [
        "# <a name=\"C4\"><font color='LightSeaGreen'>Analyse des valeurs manquantes</font></a>"
      ],
      "metadata": {
        "id": "sRAmYHZ1FZC4"
      }
    },
    {
      "cell_type": "code",
      "source": [
        "#Création d'une fonction calculant le pourcentage de valeurs manquantes \n",
        "#et affichant une heatmap pour visualiser les valeurs manquantes \n",
        "def val_manq(df):\n",
        "    ligne,colonne=df.shape\n",
        "    nb_cell=ligne*colonne\n",
        "    nb_null=df.isnull().sum().sum()\n",
        "    prct=nb_null *100/nb_cell\n",
        "    print('Nombre de valeurs manquantes =',nb_null)\n",
        "    print('Nombre de cellulles totales =',nb_cell)\n",
        "    print('Pourcentage de valeurs manquantes = ',round(prct,2),'%') \n",
        "    print('\\n')\n",
        "    print('Pourcentage de valeurs manquantes avec le nombre de colonnes =\\n',round((df.isna().sum()*100/df.shape[0]),2).value_counts(ascending=True))\n",
        "    #Calcul des pourcentages de valeurs manquantes par variable(colonne)\n",
        "    print('\\n')\n",
        "    print('Pourcentage de valeurs manquantes par variable/colonne =\\n', \n",
        "          round((df.isna().sum()*100/df.shape[0]),2).sort_values(ascending=True))\n",
        "    print('\\n')\n",
        "    plt.figure(figsize=(6,4))\n",
        "    sns.heatmap(df.isna(), cbar=False)"
      ],
      "metadata": {
        "execution": {
          "iopub.status.busy": "2022-02-22T23:22:13.260477Z",
          "iopub.execute_input": "2022-02-22T23:22:13.261411Z",
          "iopub.status.idle": "2022-02-22T23:22:13.271902Z",
          "shell.execute_reply.started": "2022-02-22T23:22:13.261372Z",
          "shell.execute_reply": "2022-02-22T23:22:13.271079Z"
        },
        "trusted": true,
        "id": "isqZDFpUFZC4"
      },
      "execution_count": null,
      "outputs": []
    },
    {
      "cell_type": "code",
      "source": [
        "#Appel de la fonction val_manq \n",
        "#Affichage des pourcentages de valeurs manquantes des 3 jeux de données \n",
        "print('1-Table erp :')\n",
        "val_manq(df_erp)\n",
        "plt.title(\"Heatmap des valeurs manquantes erp\")\n",
        "print('---------------------------------------')\n",
        "print('2-Table liaison :')\n",
        "val_manq(df_liaison)\n",
        "plt.title(\"Heatmap des valeurs manquantes liaison\")\n",
        "print('---------------------------------------')\n",
        "print('3-Table web :')\n",
        "val_manq(df_web)\n",
        "plt.title(\"Heatmap des valeurs manquantes web\")"
      ],
      "metadata": {
        "execution": {
          "iopub.status.busy": "2022-02-22T23:22:13.273116Z",
          "iopub.execute_input": "2022-02-22T23:22:13.274023Z",
          "iopub.status.idle": "2022-02-22T23:22:14.352948Z",
          "shell.execute_reply.started": "2022-02-22T23:22:13.273995Z",
          "shell.execute_reply": "2022-02-22T23:22:14.352166Z"
        },
        "trusted": true,
        "id": "uEGP8b1kFZC4"
      },
      "execution_count": null,
      "outputs": []
    },
    {
      "cell_type": "markdown",
      "source": [
        "Analyse des valeurs manquantes:\n",
        "1. df_erp : il n'y a pas de valeurs manquantes\n",
        "2. df_liaison : la colonne id_web contient 11% de valeurs manquantes\n",
        "\n",
        "3. df_web : il y a 24% de valeurs manquantes\n",
        "* 4 colonnes vides (100%)\n",
        "* 3 colonnes sans valeurs manquantes (0%)\n",
        "* 18 colonnes avec 5% de valeurs manquantes\n",
        "* 3 colonnes avec 50% de valeurs manquantes\n"
      ],
      "metadata": {
        "id": "SIxLtjetFZC4"
      }
    },
    {
      "cell_type": "markdown",
      "source": [
        "# <a name=\"C5\"><font color='LightSeaGreen'>Analyse des types de données</font></a>"
      ],
      "metadata": {
        "id": "tEUAOJa_FZC4"
      }
    },
    {
      "cell_type": "code",
      "source": [
        "#type des variables de la table erp\n",
        "print(df_erp.dtypes)\n",
        "print('\\n')\n",
        "#compte le nombre de variables par type\n",
        "df_erp.dtypes.value_counts()"
      ],
      "metadata": {
        "execution": {
          "iopub.status.busy": "2022-02-22T23:22:14.354442Z",
          "iopub.execute_input": "2022-02-22T23:22:14.354697Z",
          "iopub.status.idle": "2022-02-22T23:22:14.365085Z",
          "shell.execute_reply.started": "2022-02-22T23:22:14.354661Z",
          "shell.execute_reply": "2022-02-22T23:22:14.364198Z"
        },
        "trusted": true,
        "id": "tsDK8IeFFZC5"
      },
      "execution_count": null,
      "outputs": []
    },
    {
      "cell_type": "code",
      "source": [
        "#type des variables de la table liaison\n",
        "print(df_liaison.dtypes)\n",
        "print('\\n')\n",
        "#compte le nombre de variables par type\n",
        "df_liaison.dtypes.value_counts()"
      ],
      "metadata": {
        "execution": {
          "iopub.status.busy": "2022-02-22T23:22:14.366663Z",
          "iopub.execute_input": "2022-02-22T23:22:14.366941Z",
          "iopub.status.idle": "2022-02-22T23:22:14.381148Z",
          "shell.execute_reply.started": "2022-02-22T23:22:14.366907Z",
          "shell.execute_reply": "2022-02-22T23:22:14.380375Z"
        },
        "trusted": true,
        "id": "3Hl5N1I8FZC5"
      },
      "execution_count": null,
      "outputs": []
    },
    {
      "cell_type": "code",
      "source": [
        "#type des variables de la table web\n",
        "print(df_web.dtypes)\n",
        "print('\\n')\n",
        "#compte le nombre de variables par type\n",
        "df_web.dtypes.value_counts()"
      ],
      "metadata": {
        "execution": {
          "iopub.status.busy": "2022-02-22T23:22:14.384690Z",
          "iopub.execute_input": "2022-02-22T23:22:14.384931Z",
          "iopub.status.idle": "2022-02-22T23:22:14.397332Z",
          "shell.execute_reply.started": "2022-02-22T23:22:14.384899Z",
          "shell.execute_reply": "2022-02-22T23:22:14.396665Z"
        },
        "trusted": true,
        "id": "Dgc1_1TuFZC5"
      },
      "execution_count": null,
      "outputs": []
    },
    {
      "cell_type": "markdown",
      "source": [
        "# <a name=\"C3\"><font color='indianred'>Partie 3 : Nettoyage du jeu de données</font></a>"
      ],
      "metadata": {
        "id": "WmU8MWGPFZC5"
      }
    },
    {
      "cell_type": "markdown",
      "source": [
        "# <a name=\"C6\"><font color='LightSeaGreen'>Unicité de la clé primaire</font></a>"
      ],
      "metadata": {
        "id": "ef3CpICCFZC5"
      }
    },
    {
      "cell_type": "code",
      "source": [
        "#Creation d'une fonction qui teste l'unicité d'une colonne\n",
        "def cle_primaire(df,col):\n",
        "    if len(df)==len(df[col].unique()):\n",
        "        print('La variable', col, 'est une clé primaire')\n",
        "    else: \n",
        "        print('La variable', col, 'n\\'est pas une clé primaire')"
      ],
      "metadata": {
        "execution": {
          "iopub.status.busy": "2022-02-22T23:22:14.398475Z",
          "iopub.execute_input": "2022-02-22T23:22:14.398882Z",
          "iopub.status.idle": "2022-02-22T23:22:14.404133Z",
          "shell.execute_reply.started": "2022-02-22T23:22:14.398847Z",
          "shell.execute_reply": "2022-02-22T23:22:14.403386Z"
        },
        "trusted": true,
        "id": "Op2wfKfrFZC5"
      },
      "execution_count": null,
      "outputs": []
    },
    {
      "cell_type": "code",
      "source": [
        "cle_primaire(df_erp,'product_id')\n",
        "cle_primaire(df_web,'sku')"
      ],
      "metadata": {
        "execution": {
          "iopub.status.busy": "2022-02-22T23:22:14.405625Z",
          "iopub.execute_input": "2022-02-22T23:22:14.406089Z",
          "iopub.status.idle": "2022-02-22T23:22:14.417502Z",
          "shell.execute_reply.started": "2022-02-22T23:22:14.406055Z",
          "shell.execute_reply": "2022-02-22T23:22:14.416589Z"
        },
        "trusted": true,
        "id": "6buFNM5yFZC5"
      },
      "execution_count": null,
      "outputs": []
    },
    {
      "cell_type": "code",
      "source": [
        "#affiche le df dont le sku est null i.e qui n'ont pas de reference produit\n",
        "df_websku = df_web[df_web['sku'].isnull()]\n",
        "df_websku"
      ],
      "metadata": {
        "execution": {
          "iopub.status.busy": "2022-02-22T23:22:14.418987Z",
          "iopub.execute_input": "2022-02-22T23:22:14.419473Z",
          "iopub.status.idle": "2022-02-22T23:22:14.462338Z",
          "shell.execute_reply.started": "2022-02-22T23:22:14.419437Z",
          "shell.execute_reply": "2022-02-22T23:22:14.461679Z"
        },
        "trusted": true,
        "id": "-q_ePE1yFZC5"
      },
      "execution_count": null,
      "outputs": []
    },
    {
      "cell_type": "markdown",
      "source": [
        "Il y a 85 lignes sans sku."
      ],
      "metadata": {
        "id": "BPTHuidIFZC5"
      }
    },
    {
      "cell_type": "code",
      "source": [
        "#affiche le df des produits qui ont un nom mais qui n'ont pas de reference produit (sku)\n",
        "df_webskunotnull = df_websku[df_websku['post_name'].notnull()]\n",
        "df_webskunotnull"
      ],
      "metadata": {
        "execution": {
          "iopub.status.busy": "2022-02-22T23:22:14.463485Z",
          "iopub.execute_input": "2022-02-22T23:22:14.463911Z",
          "iopub.status.idle": "2022-02-22T23:22:14.490356Z",
          "shell.execute_reply.started": "2022-02-22T23:22:14.463874Z",
          "shell.execute_reply": "2022-02-22T23:22:14.489400Z"
        },
        "trusted": true,
        "id": "a2DBxXQ_FZC6"
      },
      "execution_count": null,
      "outputs": []
    },
    {
      "cell_type": "markdown",
      "source": [
        "Deux produits n'ont pas de sku."
      ],
      "metadata": {
        "id": "V29Do1JZFZC6"
      }
    },
    {
      "cell_type": "markdown",
      "source": [
        "\n",
        "# <a name=\"C7\"><font color='LightSeaGreen'>Suppression des doublons</font></a>"
      ],
      "metadata": {
        "id": "hqqlMNDDFZC6"
      }
    },
    {
      "cell_type": "code",
      "source": [
        "#Copie du dataframe web\n",
        "df_web_db=df_web.copy()"
      ],
      "metadata": {
        "execution": {
          "iopub.status.busy": "2022-02-22T23:22:14.492136Z",
          "iopub.execute_input": "2022-02-22T23:22:14.492825Z",
          "iopub.status.idle": "2022-02-22T23:22:14.499176Z",
          "shell.execute_reply.started": "2022-02-22T23:22:14.492787Z",
          "shell.execute_reply": "2022-02-22T23:22:14.498375Z"
        },
        "trusted": true,
        "id": "IEr5ygV5FZC6"
      },
      "execution_count": null,
      "outputs": []
    },
    {
      "cell_type": "markdown",
      "source": [
        "### Création d'une fonction qui détecte les doublons"
      ],
      "metadata": {
        "id": "pl3QP2N8FZC6"
      }
    },
    {
      "cell_type": "code",
      "source": [
        "#Fonction qui detecte les doublons\n",
        "def detect_doublons(df):\n",
        "    doub=df[df.duplicated()]\n",
        "    print('------------------') \n",
        "    print('La table contient', len(doub), 'doublons.')\n",
        "    print(doub.shape)\n",
        "    print('\\n') \n",
        "    print(doub)\n",
        "    print('\\n')"
      ],
      "metadata": {
        "execution": {
          "iopub.status.busy": "2022-02-22T23:22:14.500789Z",
          "iopub.execute_input": "2022-02-22T23:22:14.501418Z",
          "iopub.status.idle": "2022-02-22T23:22:14.507241Z",
          "shell.execute_reply.started": "2022-02-22T23:22:14.501382Z",
          "shell.execute_reply": "2022-02-22T23:22:14.506486Z"
        },
        "trusted": true,
        "id": "G2BY9oV0FZC6"
      },
      "execution_count": null,
      "outputs": []
    },
    {
      "cell_type": "code",
      "source": [
        "print('------------------') \n",
        "print('Table erp')\n",
        "detect_doublons(df_erp)\n",
        "print('------------------') \n",
        "print('Table liaison')\n",
        "detect_doublons(df_liaison)\n",
        "print('------------------') \n",
        "print('Table web')\n",
        "detect_doublons(df_web_db)"
      ],
      "metadata": {
        "execution": {
          "iopub.status.busy": "2022-02-22T23:22:14.508928Z",
          "iopub.execute_input": "2022-02-22T23:22:14.509670Z",
          "iopub.status.idle": "2022-02-22T23:22:14.550025Z",
          "shell.execute_reply.started": "2022-02-22T23:22:14.509624Z",
          "shell.execute_reply": "2022-02-22T23:22:14.549234Z"
        },
        "trusted": true,
        "id": "gizs-xOvFZC6"
      },
      "execution_count": null,
      "outputs": []
    },
    {
      "cell_type": "markdown",
      "source": [
        "### Création d'une fonction qui supprime les doublons \n"
      ],
      "metadata": {
        "id": "8DKt1yKtFZC6"
      }
    },
    {
      "cell_type": "code",
      "source": [
        "#Création d'une fonction qui supprime les doublons et affiche la nouvelle heatmap sans les doublons\n",
        "def supp_lignes(df):\n",
        "    df=df.drop_duplicates(keep=False)\n",
        "    print(df.shape)\n",
        "    #print('Apres suppression des doublons, nous avons la heatmap suivante:')\n",
        "    plt.figure(figsize=(6,4))\n",
        "    sns.heatmap(df.isna(), cbar=False)    "
      ],
      "metadata": {
        "execution": {
          "iopub.status.busy": "2022-02-22T23:22:14.550969Z",
          "iopub.execute_input": "2022-02-22T23:22:14.555721Z",
          "iopub.status.idle": "2022-02-22T23:22:14.561842Z",
          "shell.execute_reply.started": "2022-02-22T23:22:14.555690Z",
          "shell.execute_reply": "2022-02-22T23:22:14.560973Z"
        },
        "trusted": true,
        "id": "fYw9cKslFZC6"
      },
      "execution_count": null,
      "outputs": []
    },
    {
      "cell_type": "code",
      "source": [
        "print('Table erp')\n",
        "supp_lignes(df_erp)\n",
        "print('Table liaison')\n",
        "supp_lignes(df_liaison)\n",
        "print('Table web')\n",
        "supp_lignes(df_web_db)"
      ],
      "metadata": {
        "execution": {
          "iopub.status.busy": "2022-02-22T23:22:14.563606Z",
          "iopub.execute_input": "2022-02-22T23:22:14.563884Z",
          "iopub.status.idle": "2022-02-22T23:22:15.549359Z",
          "shell.execute_reply.started": "2022-02-22T23:22:14.563845Z",
          "shell.execute_reply": "2022-02-22T23:22:15.546906Z"
        },
        "trusted": true,
        "id": "1rhj1VyoFZC6"
      },
      "execution_count": null,
      "outputs": []
    },
    {
      "cell_type": "code",
      "source": [
        "#Création du nouveau dataframe web contenant les lignes avec la valeur 'taxable' qui correspond au post du produit \n",
        "#alors que la 2eme ligne du meme produit correspond à la pièce jointe du post\n",
        "df_webtax=df_web_db[(df_web_db['tax_status']=='taxable')&df_web_db['sku'].notnull()]\n",
        "df_webtax.head()"
      ],
      "metadata": {
        "execution": {
          "iopub.status.busy": "2022-02-22T23:22:15.550681Z",
          "iopub.execute_input": "2022-02-22T23:22:15.550904Z",
          "iopub.status.idle": "2022-02-22T23:22:15.583288Z",
          "shell.execute_reply.started": "2022-02-22T23:22:15.550879Z",
          "shell.execute_reply": "2022-02-22T23:22:15.582537Z"
        },
        "trusted": true,
        "id": "XH4TsuJDFZC6"
      },
      "execution_count": null,
      "outputs": []
    },
    {
      "cell_type": "code",
      "source": [
        "#1nouvelle heatmap du df web sans les lignes en double et les lignes des pieces jointes\n",
        "sns.heatmap(df_webtax.isna(), cbar=False) "
      ],
      "metadata": {
        "execution": {
          "iopub.status.busy": "2022-02-22T23:22:15.584559Z",
          "iopub.execute_input": "2022-02-22T23:22:15.584875Z",
          "iopub.status.idle": "2022-02-22T23:22:16.018382Z",
          "shell.execute_reply.started": "2022-02-22T23:22:15.584838Z",
          "shell.execute_reply": "2022-02-22T23:22:16.017723Z"
        },
        "trusted": true,
        "id": "woQWSZ_zFZC7"
      },
      "execution_count": null,
      "outputs": []
    },
    {
      "cell_type": "markdown",
      "source": [
        "# <a name=\"C8\"><font color='LightSeaGreen'>Suppression des colonnes vides</font></a>"
      ],
      "metadata": {
        "id": "NTzQ483FFZC7"
      }
    },
    {
      "cell_type": "code",
      "source": [
        "#affiche la liste des colonnes vides du df web\n",
        "#les 2 autres df erp et liaison n'ont pas de colonnes vides\n",
        "print('Liste des colonnes vides:')\n",
        "[col for col in df_webtax.columns if df_webtax[col].isnull().all()]"
      ],
      "metadata": {
        "execution": {
          "iopub.status.busy": "2022-02-22T23:22:16.019602Z",
          "iopub.execute_input": "2022-02-22T23:22:16.019959Z",
          "iopub.status.idle": "2022-02-22T23:22:16.036147Z",
          "shell.execute_reply.started": "2022-02-22T23:22:16.019924Z",
          "shell.execute_reply": "2022-02-22T23:22:16.035379Z"
        },
        "trusted": true,
        "id": "1VU8i_mvFZC7"
      },
      "execution_count": null,
      "outputs": []
    },
    {
      "cell_type": "markdown",
      "source": [
        "### Création d'une fonction qui supprime les colonnes vides"
      ],
      "metadata": {
        "id": "HRP9rZKJFZC7"
      }
    },
    {
      "cell_type": "code",
      "source": [
        "#fonction qui compte, supprime les colonnes vides et affiche la nouvelle heatmap\n",
        "def colonnes_vides(df): \n",
        "    l=[col for col in df.columns if df[col].isnull().all()]\n",
        "    print('Nombre de colonnes vides =',len(l))\n",
        "    for cv in l:\n",
        "        df.pop(cv)\n",
        "    print(df.shape)\n",
        "    plt.figure(figsize=(6,4))\n",
        "    sns.heatmap(df.isna(), cbar=False)"
      ],
      "metadata": {
        "execution": {
          "iopub.status.busy": "2022-02-22T23:22:16.037367Z",
          "iopub.execute_input": "2022-02-22T23:22:16.037666Z",
          "iopub.status.idle": "2022-02-22T23:22:16.044177Z",
          "shell.execute_reply.started": "2022-02-22T23:22:16.037630Z",
          "shell.execute_reply": "2022-02-22T23:22:16.043438Z"
        },
        "trusted": true,
        "id": "E7J0HtO_FZC7"
      },
      "execution_count": null,
      "outputs": []
    },
    {
      "cell_type": "code",
      "source": [
        "#utilisation de la fonction qui compte et supprime les colonnes vides\n",
        "colonnes_vides(df_webtax)"
      ],
      "metadata": {
        "execution": {
          "iopub.status.busy": "2022-02-22T23:22:16.045398Z",
          "iopub.execute_input": "2022-02-22T23:22:16.045823Z",
          "iopub.status.idle": "2022-02-22T23:22:16.638853Z",
          "shell.execute_reply.started": "2022-02-22T23:22:16.045787Z",
          "shell.execute_reply": "2022-02-22T23:22:16.638161Z"
        },
        "trusted": true,
        "id": "F9z5NsLEFZC7"
      },
      "execution_count": null,
      "outputs": []
    },
    {
      "cell_type": "markdown",
      "source": [
        "# <a name=\"C4\"><font color='indianred'>Partie 4 : Rapprochement des exports</font></a>"
      ],
      "metadata": {
        "id": "wRRXTjizFZC7"
      }
    },
    {
      "cell_type": "markdown",
      "source": [
        "# <a name=\"C9\"><font color='LightSeaGreen'>Renommage de la colonne id_web</font></a>"
      ],
      "metadata": {
        "id": "Grl2AygUFZC7"
      }
    },
    {
      "cell_type": "code",
      "source": [
        "#Renommage de la colonne id_web de la table liaison correspondant à 'sku' dans la table web\n",
        "df_liaison=df_liaison.rename(columns={'id_web':'sku'})\n",
        "df_liaison.head(2)"
      ],
      "metadata": {
        "execution": {
          "iopub.status.busy": "2022-02-22T23:22:16.640343Z",
          "iopub.execute_input": "2022-02-22T23:22:16.640860Z",
          "iopub.status.idle": "2022-02-22T23:22:16.652803Z",
          "shell.execute_reply.started": "2022-02-22T23:22:16.640819Z",
          "shell.execute_reply": "2022-02-22T23:22:16.652031Z"
        },
        "trusted": true,
        "id": "tr3ZR6NrFZC7"
      },
      "execution_count": null,
      "outputs": []
    },
    {
      "cell_type": "markdown",
      "source": [
        "# <a name=\"C10\"><font color='LightSeaGreen'>Jointure des 3 tables</font></a>"
      ],
      "metadata": {
        "id": "B6iYmzE_FZC7"
      }
    },
    {
      "cell_type": "markdown",
      "source": [
        "## Jointure complète "
      ],
      "metadata": {
        "id": "laCthzh2FZC7"
      }
    },
    {
      "cell_type": "code",
      "source": [
        "#Jointure des 2 dataframes erp et liaison en faisant l'union complète \n",
        "df_erp_liaison=pd.merge(df_erp, df_liaison, left_on='product_id', right_on='product_id', how='outer')          \n",
        "df_erp_liaison"
      ],
      "metadata": {
        "execution": {
          "iopub.status.busy": "2022-02-22T23:22:16.654275Z",
          "iopub.execute_input": "2022-02-22T23:22:16.654540Z",
          "iopub.status.idle": "2022-02-22T23:22:16.674876Z",
          "shell.execute_reply.started": "2022-02-22T23:22:16.654506Z",
          "shell.execute_reply": "2022-02-22T23:22:16.674188Z"
        },
        "trusted": true,
        "id": "6gthB-ayFZC7"
      },
      "execution_count": null,
      "outputs": []
    },
    {
      "cell_type": "code",
      "source": [
        "#Jointure des 2 dataframes erp_liaison et web en faisant l'union complète avec un indicateur \n",
        "#qui montre si la ligne appartient à df1 ou df2\n",
        "#une colonne _merge se crée et indique both si la ligne appartient aux 2 df, \n",
        "#left_only si la ligne appartient au df de gauche\n",
        "#Cette jointure lie toutes les lignes remplissant les cellules vides par une valeur nulle\n",
        "df_final_outer=pd.merge(df_erp_liaison, df_webtax, left_on='sku', right_on='sku', how='outer', indicator=True)\n",
        "df_final_outer.head()"
      ],
      "metadata": {
        "execution": {
          "iopub.status.busy": "2022-02-22T23:22:16.676995Z",
          "iopub.execute_input": "2022-02-22T23:22:16.677757Z",
          "iopub.status.idle": "2022-02-22T23:22:16.723787Z",
          "shell.execute_reply.started": "2022-02-22T23:22:16.677719Z",
          "shell.execute_reply": "2022-02-22T23:22:16.723148Z"
        },
        "trusted": true,
        "id": "MuRnp_0TFZC8"
      },
      "execution_count": null,
      "outputs": []
    },
    {
      "cell_type": "code",
      "source": [
        "#on trouve 20 lignes dont les sku ne correspondent pas, avec comme valeur: _merge=left_only\n",
        "#i.e une ligne appartient à la 1ere table et non à la 2eme table\n",
        "df_final_outer[df_final_outer['_merge']!='both']"
      ],
      "metadata": {
        "execution": {
          "iopub.status.busy": "2022-02-22T23:22:16.725015Z",
          "iopub.execute_input": "2022-02-22T23:22:16.725480Z",
          "iopub.status.idle": "2022-02-22T23:22:16.775212Z",
          "shell.execute_reply.started": "2022-02-22T23:22:16.725445Z",
          "shell.execute_reply": "2022-02-22T23:22:16.774441Z"
        },
        "trusted": true,
        "id": "hvcbLHDoFZC8"
      },
      "execution_count": null,
      "outputs": []
    },
    {
      "cell_type": "markdown",
      "source": [
        "## Jointure inner"
      ],
      "metadata": {
        "id": "AxT5znWNFZC8"
      }
    },
    {
      "cell_type": "code",
      "source": [
        "#Cette jointure fait le lien interne avec product_id comme colonne commune \n",
        "df_erp_liaison_inner=pd.merge(df_erp, df_liaison, left_on='product_id', right_on='product_id', how='inner')          \n",
        "df_erp_liaison_inner.head()"
      ],
      "metadata": {
        "execution": {
          "iopub.status.busy": "2022-02-22T23:22:16.776535Z",
          "iopub.execute_input": "2022-02-22T23:22:16.776782Z",
          "iopub.status.idle": "2022-02-22T23:22:16.794881Z",
          "shell.execute_reply.started": "2022-02-22T23:22:16.776749Z",
          "shell.execute_reply": "2022-02-22T23:22:16.794221Z"
        },
        "trusted": true,
        "id": "WjQ4KphmFZC8"
      },
      "execution_count": null,
      "outputs": []
    },
    {
      "cell_type": "code",
      "source": [
        "#Cette jointure fait le lien interne avec sku comme colonne commune\n",
        "df_final=pd.merge(df_erp_liaison_inner, df_webtax, left_on='sku', right_on='sku', how='inner', indicator=True)\n",
        "df_final.head()"
      ],
      "metadata": {
        "execution": {
          "iopub.status.busy": "2022-02-22T23:22:16.796052Z",
          "iopub.execute_input": "2022-02-22T23:22:16.796296Z",
          "iopub.status.idle": "2022-02-22T23:22:16.841197Z",
          "shell.execute_reply.started": "2022-02-22T23:22:16.796260Z",
          "shell.execute_reply": "2022-02-22T23:22:16.840469Z"
        },
        "trusted": true,
        "id": "o_5-s2U-FZC8"
      },
      "execution_count": null,
      "outputs": []
    },
    {
      "cell_type": "code",
      "source": [
        "#seulement les lignes communes ont ete fusionnées donc pas de nan \n",
        "df_final[df_final['_merge']!='both']"
      ],
      "metadata": {
        "execution": {
          "iopub.status.busy": "2022-02-22T23:22:16.845680Z",
          "iopub.execute_input": "2022-02-22T23:22:16.845927Z",
          "iopub.status.idle": "2022-02-22T23:22:16.867189Z",
          "shell.execute_reply.started": "2022-02-22T23:22:16.845893Z",
          "shell.execute_reply": "2022-02-22T23:22:16.866360Z"
        },
        "trusted": true,
        "id": "kZV2D4CwFZC8"
      },
      "execution_count": null,
      "outputs": []
    },
    {
      "cell_type": "markdown",
      "source": [
        "# <a name=\"C5\"><font color='indianred'>Partie 5 : Chiffre d'affaires</font></a>"
      ],
      "metadata": {
        "id": "a_PI5NxFFZC8"
      }
    },
    {
      "cell_type": "markdown",
      "source": [
        "# <a name=\"C11\"><font color='LightSeaGreen'>Calcul du CA par produit et du CA total</font></a>"
      ],
      "metadata": {
        "id": "Ss-QSExcFZC8"
      }
    },
    {
      "cell_type": "code",
      "source": [
        "#ajout de la colonne 'CA_produit' qui calcule le CA par produit i.e calcule le CA pour chaque ligne\n",
        "df_final['CA_produit']=df_final['price']*df_final['total_sales']\n",
        "df_final.head()"
      ],
      "metadata": {
        "execution": {
          "iopub.status.busy": "2022-02-22T23:22:16.868165Z",
          "iopub.execute_input": "2022-02-22T23:22:16.868367Z",
          "iopub.status.idle": "2022-02-22T23:22:16.904402Z",
          "shell.execute_reply.started": "2022-02-22T23:22:16.868330Z",
          "shell.execute_reply": "2022-02-22T23:22:16.902620Z"
        },
        "trusted": true,
        "id": "FtUu3vTKFZC8"
      },
      "execution_count": null,
      "outputs": []
    },
    {
      "cell_type": "markdown",
      "source": [
        "### Total du Chiffre d'affaires"
      ],
      "metadata": {
        "id": "9Akc_TntFZC8"
      }
    },
    {
      "cell_type": "code",
      "source": [
        "#total du CA : somme de tous les CA par produit \n",
        "ca=sum(df_final['CA_produit'])\n",
        "print('CA total:', ca, '€')"
      ],
      "metadata": {
        "execution": {
          "iopub.status.busy": "2022-02-22T23:22:16.905293Z",
          "iopub.execute_input": "2022-02-22T23:22:16.905704Z",
          "iopub.status.idle": "2022-02-22T23:22:16.911569Z",
          "shell.execute_reply.started": "2022-02-22T23:22:16.905669Z",
          "shell.execute_reply": "2022-02-22T23:22:16.910626Z"
        },
        "trusted": true,
        "id": "gTmzqsxvFZC8"
      },
      "execution_count": null,
      "outputs": []
    },
    {
      "cell_type": "code",
      "source": [
        "#résumé des données \n",
        "df_final.describe()"
      ],
      "metadata": {
        "execution": {
          "iopub.status.busy": "2022-02-22T23:22:16.913407Z",
          "iopub.execute_input": "2022-02-22T23:22:16.913677Z",
          "iopub.status.idle": "2022-02-22T23:22:16.963124Z",
          "shell.execute_reply.started": "2022-02-22T23:22:16.913633Z",
          "shell.execute_reply": "2022-02-22T23:22:16.962356Z"
        },
        "trusted": true,
        "id": "pzap-WrNFZC8"
      },
      "execution_count": null,
      "outputs": []
    },
    {
      "cell_type": "markdown",
      "source": [
        "# <a name=\"C12\"><font color='LightSeaGreen'>Detection des outliers par la méthode du Z-score</font></a>"
      ],
      "metadata": {
        "id": "3yMYKkwSFZC9"
      }
    },
    {
      "cell_type": "code",
      "source": [
        "#liste vide\n",
        "outliers=[]\n",
        "\n",
        "#fonction qui détecte, compte et liste les outliers\n",
        "def liste_outliers(df):\n",
        "    #seuil des valeurs aberrantes : +/- 2  \n",
        "    threshold=2\n",
        "    #moyenne\n",
        "    mean=np.mean(df)\n",
        "    #écart-type\n",
        "    std=np.std(df)\n",
        "    for i in df:\n",
        "        zscore=(i-mean)/std\n",
        "        if np.abs(zscore)>threshold:\n",
        "            outliers.append(i)\n",
        "    return outliers\n",
        "\n",
        "#appel de la fonction \n",
        "l1=liste_outliers(df_final['price'])\n",
        "print('Nombre d\\'outliers :', len(l1))\n",
        "print('\\n') \n",
        "print('Liste des outliers : ', l1)"
      ],
      "metadata": {
        "execution": {
          "iopub.status.busy": "2022-02-22T23:22:16.964498Z",
          "iopub.execute_input": "2022-02-22T23:22:16.964736Z",
          "iopub.status.idle": "2022-02-22T23:22:16.974725Z",
          "shell.execute_reply.started": "2022-02-22T23:22:16.964704Z",
          "shell.execute_reply": "2022-02-22T23:22:16.973779Z"
        },
        "trusted": true,
        "id": "zgLDAeozFZC9"
      },
      "execution_count": null,
      "outputs": []
    },
    {
      "cell_type": "markdown",
      "source": [
        "# <a name=\"C13\"><font color='LightSeaGreen'>Detection des outliers par la méthode du IQR</font></a>"
      ],
      "metadata": {
        "id": "F4PTJ8JNFZC9"
      }
    },
    {
      "cell_type": "code",
      "source": [
        "#détecte les outliers et les filtre pour avoir un nouveau dataframe sans outliers\n",
        "#1er quartile\n",
        "q1 = df_final['price'].quantile(0.25)\n",
        "#3eme quartile\n",
        "q3 = df_final['price'].quantile(0.75)\n",
        "#écart interquatile\n",
        "iqr = q3 - q1\n",
        "print('Ecart interquatile =', round(iqr,2))\n",
        "seuil_min = q1 -(1.5 * iqr) \n",
        "seuil_max = q3 +(1.5 * iqr)\n",
        "print('Seuil minimum =', round(seuil_min,2))\n",
        "print('Seuil maximum =', round(seuil_max,2))\n",
        "#affiche le dataframe final sans outliers\n",
        "df_out = df_final[(df_final['price'] > seuil_min) & (df_final['price'] < seuil_max)]\n",
        "#trie par ordre croissant les donnees du df web sans outliers via la colonne 'price' \n",
        "df_out.sort_values('price', ascending=True).head()"
      ],
      "metadata": {
        "execution": {
          "iopub.status.busy": "2022-02-22T23:22:16.976248Z",
          "iopub.execute_input": "2022-02-22T23:22:16.976917Z",
          "iopub.status.idle": "2022-02-22T23:22:17.020457Z",
          "shell.execute_reply.started": "2022-02-22T23:22:16.976880Z",
          "shell.execute_reply": "2022-02-22T23:22:17.019697Z"
        },
        "trusted": true,
        "id": "dLJs--QfFZC9"
      },
      "execution_count": null,
      "outputs": []
    },
    {
      "cell_type": "code",
      "source": [
        "#dataframe des outliers\n",
        "dfo = df_final[(df_final['price'] < seuil_min) | (df_final['price'] > seuil_max)]\n",
        "#liste des outliers\n",
        "liste_out=(dfo['price'].tolist())\n",
        "print('Nombre doutliers:', len(liste_out))\n",
        "print('\\n')\n",
        "print('Liste des outliers :', liste_out)\n",
        "print('\\n')\n",
        "#affichage des outliers 'price' avec les colonnes 'stock_quantity','total_sales', 'CA_produit'\n",
        "dfo[['price', 'stock_quantity','total_sales', 'CA_produit']].head()"
      ],
      "metadata": {
        "execution": {
          "iopub.status.busy": "2022-02-22T23:22:17.021788Z",
          "iopub.execute_input": "2022-02-22T23:22:17.022034Z",
          "iopub.status.idle": "2022-02-22T23:22:17.042349Z",
          "shell.execute_reply.started": "2022-02-22T23:22:17.022002Z",
          "shell.execute_reply": "2022-02-22T23:22:17.041664Z"
        },
        "trusted": true,
        "id": "DMLDescmFZC9"
      },
      "execution_count": null,
      "outputs": []
    },
    {
      "cell_type": "markdown",
      "source": [
        "### <a name=\"C14\"><font color='LightSeaGreen'>Visualisation graphique des outliers</font></a>"
      ],
      "metadata": {
        "id": "h3gQLtUHFZC9"
      }
    },
    {
      "cell_type": "code",
      "source": [
        "#Box Plot / Boîte à moustaches\n",
        "#montre les valeurs extrêmes et la symétrie, la dispersion ou la centralité de la distribution des valeurs \n",
        "#associées à la variable 'price'\n",
        "#pas de symétrie dans la distribution\n",
        "df_final.boxplot(column='price', vert=False)"
      ],
      "metadata": {
        "execution": {
          "iopub.status.busy": "2022-02-22T23:22:17.043438Z",
          "iopub.execute_input": "2022-02-22T23:22:17.044225Z",
          "iopub.status.idle": "2022-02-22T23:22:17.212554Z",
          "shell.execute_reply.started": "2022-02-22T23:22:17.044183Z",
          "shell.execute_reply": "2022-02-22T23:22:17.211826Z"
        },
        "trusted": true,
        "id": "ff3h_ga-FZC9"
      },
      "execution_count": null,
      "outputs": []
    },
    {
      "cell_type": "code",
      "source": [
        "#histogramme pour la variable quantitative continue price qui montre les valeurs extremes à droite \n",
        "#l'histogramme est étalé à droite et presente donc une asymétrie \n",
        "df_final['price'].hist(density=True, bins=100)\n",
        "plt.show()"
      ],
      "metadata": {
        "execution": {
          "iopub.status.busy": "2022-02-22T23:22:17.217220Z",
          "iopub.execute_input": "2022-02-22T23:22:17.217617Z",
          "iopub.status.idle": "2022-02-22T23:22:17.527761Z",
          "shell.execute_reply.started": "2022-02-22T23:22:17.217582Z",
          "shell.execute_reply": "2022-02-22T23:22:17.527119Z"
        },
        "trusted": true,
        "id": "xagJWPVCFZC9"
      },
      "execution_count": null,
      "outputs": []
    },
    {
      "cell_type": "code",
      "source": [
        "#Diagramme de dispersion / Nuage de points mettant en relief la relation entre les 2 variables price et total_sales\n",
        "#montre la concentration de la plupart des prix à gauche et les valeurs extremes à droite\n",
        "#plus les prix sont élevés, moins il y a de ventes des produits\n",
        "df_final.plot.scatter( x=\"price\", y=\"total_sales\", s = 50)"
      ],
      "metadata": {
        "execution": {
          "iopub.status.busy": "2022-02-22T23:22:17.528899Z",
          "iopub.execute_input": "2022-02-22T23:22:17.529383Z",
          "iopub.status.idle": "2022-02-22T23:22:17.721831Z",
          "shell.execute_reply.started": "2022-02-22T23:22:17.529346Z",
          "shell.execute_reply": "2022-02-22T23:22:17.721164Z"
        },
        "trusted": true,
        "id": "geZvxD5MFZC9"
      },
      "execution_count": null,
      "outputs": []
    }
  ]
}